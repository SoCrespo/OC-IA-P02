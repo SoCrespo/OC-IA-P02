{
 "cells": [
  {
   "cell_type": "markdown",
   "metadata": {},
   "source": [
    "# Trees in Paris"
   ]
  },
  {
   "cell_type": "markdown",
   "metadata": {},
   "source": [
    "## 0) Environment setup"
   ]
  },
  {
   "cell_type": "markdown",
   "metadata": {},
   "source": [
    "Let's first check that we are using a virtual environment:"
   ]
  },
  {
   "cell_type": "code",
   "execution_count": 1,
   "metadata": {},
   "outputs": [
    {
     "name": "stdout",
     "output_type": "stream",
     "text": [
      "Virtual environment is activated\n"
     ]
    }
   ],
   "source": [
    "import os\n",
    "assert os.environ.get('VIRTUAL_ENV', None) is not None, \"Virtual environment is not activated.\\\n",
    "Please run this notebook after activation\"\n",
    "print('Virtual environment is activated')    "
   ]
  },
  {
   "cell_type": "markdown",
   "metadata": {},
   "source": [
    "Then import useful librairies:"
   ]
  },
  {
   "cell_type": "code",
   "execution_count": 2,
   "metadata": {},
   "outputs": [],
   "source": [
    "import numpy as np\n",
    "import pandas as pd\n",
    "import matplotlib.pyplot as plt\n",
    "import seaborn as sns\n",
    "import warnings\n",
    "warnings.filterwarnings(\"ignore\")"
   ]
  },
  {
   "cell_type": "markdown",
   "metadata": {},
   "source": [
    "Now we can import the data from the csv file and have a first look at it."
   ]
  },
  {
   "cell_type": "markdown",
   "metadata": {},
   "source": [
    "## Summary\n",
    "1. Dataset general presentation  \n",
    "2. Numerical data analysis  \n",
    "    a. Circumference  \n",
    "    b. Height  \n",
    "3. Conclusion    "
   ]
  },
  {
   "cell_type": "markdown",
   "metadata": {},
   "source": [
    "## 1. Dataset general presentation"
   ]
  },
  {
   "cell_type": "code",
   "execution_count": 3,
   "metadata": {},
   "outputs": [
    {
     "name": "stdout",
     "output_type": "stream",
     "text": [
      "\n",
      "Dataframe contains 200137 rows and 18 columns.\n",
      "\n",
      "\n"
     ]
    },
    {
     "data": {
      "text/html": [
       "<div>\n",
       "<style scoped>\n",
       "    .dataframe tbody tr th:only-of-type {\n",
       "        vertical-align: middle;\n",
       "    }\n",
       "\n",
       "    .dataframe tbody tr th {\n",
       "        vertical-align: top;\n",
       "    }\n",
       "\n",
       "    .dataframe thead th {\n",
       "        text-align: right;\n",
       "    }\n",
       "</style>\n",
       "<table border=\"1\" class=\"dataframe\">\n",
       "  <thead>\n",
       "    <tr style=\"text-align: right;\">\n",
       "      <th></th>\n",
       "      <th>id</th>\n",
       "      <th>type_emplacement</th>\n",
       "      <th>domanialite</th>\n",
       "      <th>arrondissement</th>\n",
       "      <th>complement_addresse</th>\n",
       "      <th>numero</th>\n",
       "      <th>lieu</th>\n",
       "      <th>id_emplacement</th>\n",
       "      <th>libelle_francais</th>\n",
       "      <th>genre</th>\n",
       "      <th>espece</th>\n",
       "      <th>variete</th>\n",
       "      <th>circonference_cm</th>\n",
       "      <th>hauteur_m</th>\n",
       "      <th>stade_developpement</th>\n",
       "      <th>remarquable</th>\n",
       "      <th>geo_point_2d_a</th>\n",
       "      <th>geo_point_2d_b</th>\n",
       "    </tr>\n",
       "  </thead>\n",
       "  <tbody>\n",
       "    <tr>\n",
       "      <th>0</th>\n",
       "      <td>99874</td>\n",
       "      <td>Arbre</td>\n",
       "      <td>Jardin</td>\n",
       "      <td>PARIS 7E ARRDT</td>\n",
       "      <td>NaN</td>\n",
       "      <td>NaN</td>\n",
       "      <td>MAIRIE DU 7E 116 RUE DE GRENELLE PARIS 7E</td>\n",
       "      <td>19</td>\n",
       "      <td>Marronnier</td>\n",
       "      <td>Aesculus</td>\n",
       "      <td>hippocastanum</td>\n",
       "      <td>NaN</td>\n",
       "      <td>20</td>\n",
       "      <td>5</td>\n",
       "      <td>NaN</td>\n",
       "      <td>0.0</td>\n",
       "      <td>48.857620</td>\n",
       "      <td>2.320962</td>\n",
       "    </tr>\n",
       "    <tr>\n",
       "      <th>1</th>\n",
       "      <td>99875</td>\n",
       "      <td>Arbre</td>\n",
       "      <td>Jardin</td>\n",
       "      <td>PARIS 7E ARRDT</td>\n",
       "      <td>NaN</td>\n",
       "      <td>NaN</td>\n",
       "      <td>MAIRIE DU 7E 116 RUE DE GRENELLE PARIS 7E</td>\n",
       "      <td>20</td>\n",
       "      <td>If</td>\n",
       "      <td>Taxus</td>\n",
       "      <td>baccata</td>\n",
       "      <td>NaN</td>\n",
       "      <td>65</td>\n",
       "      <td>8</td>\n",
       "      <td>A</td>\n",
       "      <td>NaN</td>\n",
       "      <td>48.857656</td>\n",
       "      <td>2.321031</td>\n",
       "    </tr>\n",
       "    <tr>\n",
       "      <th>2</th>\n",
       "      <td>99876</td>\n",
       "      <td>Arbre</td>\n",
       "      <td>Jardin</td>\n",
       "      <td>PARIS 7E ARRDT</td>\n",
       "      <td>NaN</td>\n",
       "      <td>NaN</td>\n",
       "      <td>MAIRIE DU 7E 116 RUE DE GRENELLE PARIS 7E</td>\n",
       "      <td>21</td>\n",
       "      <td>If</td>\n",
       "      <td>Taxus</td>\n",
       "      <td>baccata</td>\n",
       "      <td>NaN</td>\n",
       "      <td>90</td>\n",
       "      <td>10</td>\n",
       "      <td>A</td>\n",
       "      <td>NaN</td>\n",
       "      <td>48.857705</td>\n",
       "      <td>2.321061</td>\n",
       "    </tr>\n",
       "    <tr>\n",
       "      <th>3</th>\n",
       "      <td>99877</td>\n",
       "      <td>Arbre</td>\n",
       "      <td>Jardin</td>\n",
       "      <td>PARIS 7E ARRDT</td>\n",
       "      <td>NaN</td>\n",
       "      <td>NaN</td>\n",
       "      <td>MAIRIE DU 7E 116 RUE DE GRENELLE PARIS 7E</td>\n",
       "      <td>22</td>\n",
       "      <td>Erable</td>\n",
       "      <td>Acer</td>\n",
       "      <td>negundo</td>\n",
       "      <td>NaN</td>\n",
       "      <td>60</td>\n",
       "      <td>8</td>\n",
       "      <td>A</td>\n",
       "      <td>NaN</td>\n",
       "      <td>48.857722</td>\n",
       "      <td>2.321006</td>\n",
       "    </tr>\n",
       "    <tr>\n",
       "      <th>4</th>\n",
       "      <td>99878</td>\n",
       "      <td>Arbre</td>\n",
       "      <td>Jardin</td>\n",
       "      <td>PARIS 17E ARRDT</td>\n",
       "      <td>NaN</td>\n",
       "      <td>NaN</td>\n",
       "      <td>PARC CLICHY-BATIGNOLLES-MARTIN LUTHER KING</td>\n",
       "      <td>000G0037</td>\n",
       "      <td>Arbre à miel</td>\n",
       "      <td>Tetradium</td>\n",
       "      <td>daniellii</td>\n",
       "      <td>NaN</td>\n",
       "      <td>38</td>\n",
       "      <td>0</td>\n",
       "      <td>NaN</td>\n",
       "      <td>NaN</td>\n",
       "      <td>48.890435</td>\n",
       "      <td>2.315289</td>\n",
       "    </tr>\n",
       "    <tr>\n",
       "      <th>...</th>\n",
       "      <td>...</td>\n",
       "      <td>...</td>\n",
       "      <td>...</td>\n",
       "      <td>...</td>\n",
       "      <td>...</td>\n",
       "      <td>...</td>\n",
       "      <td>...</td>\n",
       "      <td>...</td>\n",
       "      <td>...</td>\n",
       "      <td>...</td>\n",
       "      <td>...</td>\n",
       "      <td>...</td>\n",
       "      <td>...</td>\n",
       "      <td>...</td>\n",
       "      <td>...</td>\n",
       "      <td>...</td>\n",
       "      <td>...</td>\n",
       "      <td>...</td>\n",
       "    </tr>\n",
       "    <tr>\n",
       "      <th>200132</th>\n",
       "      <td>2024741</td>\n",
       "      <td>Arbre</td>\n",
       "      <td>Jardin</td>\n",
       "      <td>BOIS DE VINCENNES</td>\n",
       "      <td>NaN</td>\n",
       "      <td>NaN</td>\n",
       "      <td>ARBORETUM DE L ECOLE DU BREUIL - ROUTE DE LA F...</td>\n",
       "      <td>720170151</td>\n",
       "      <td>NaN</td>\n",
       "      <td>Castanea</td>\n",
       "      <td>fargesii</td>\n",
       "      <td>NaN</td>\n",
       "      <td>0</td>\n",
       "      <td>0</td>\n",
       "      <td>NaN</td>\n",
       "      <td>0.0</td>\n",
       "      <td>48.821957</td>\n",
       "      <td>2.456264</td>\n",
       "    </tr>\n",
       "    <tr>\n",
       "      <th>200133</th>\n",
       "      <td>2024742</td>\n",
       "      <td>Arbre</td>\n",
       "      <td>Jardin</td>\n",
       "      <td>BOIS DE VINCENNES</td>\n",
       "      <td>NaN</td>\n",
       "      <td>NaN</td>\n",
       "      <td>ARBORETUM DE L ECOLE DU BREUIL - ROUTE DE LA F...</td>\n",
       "      <td>720170152</td>\n",
       "      <td>Arbre aux mouchoirs</td>\n",
       "      <td>Davidia</td>\n",
       "      <td>involucrata</td>\n",
       "      <td>NaN</td>\n",
       "      <td>0</td>\n",
       "      <td>0</td>\n",
       "      <td>NaN</td>\n",
       "      <td>0.0</td>\n",
       "      <td>48.823254</td>\n",
       "      <td>2.457935</td>\n",
       "    </tr>\n",
       "    <tr>\n",
       "      <th>200134</th>\n",
       "      <td>2024743</td>\n",
       "      <td>Arbre</td>\n",
       "      <td>Jardin</td>\n",
       "      <td>BOIS DE VINCENNES</td>\n",
       "      <td>NaN</td>\n",
       "      <td>NaN</td>\n",
       "      <td>ARBORETUM DE L ECOLE DU BREUIL - ROUTE DE LA F...</td>\n",
       "      <td>720170153</td>\n",
       "      <td>Peuplier</td>\n",
       "      <td>Populus</td>\n",
       "      <td>simonii</td>\n",
       "      <td>NaN</td>\n",
       "      <td>0</td>\n",
       "      <td>0</td>\n",
       "      <td>NaN</td>\n",
       "      <td>0.0</td>\n",
       "      <td>48.822907</td>\n",
       "      <td>2.457970</td>\n",
       "    </tr>\n",
       "    <tr>\n",
       "      <th>200135</th>\n",
       "      <td>2024744</td>\n",
       "      <td>Arbre</td>\n",
       "      <td>Jardin</td>\n",
       "      <td>BOIS DE VINCENNES</td>\n",
       "      <td>NaN</td>\n",
       "      <td>NaN</td>\n",
       "      <td>ARBORETUM DE L ECOLE DU BREUIL - ROUTE DE LA F...</td>\n",
       "      <td>720170154</td>\n",
       "      <td>Chêne</td>\n",
       "      <td>Quercus</td>\n",
       "      <td>n. sp.</td>\n",
       "      <td>NaN</td>\n",
       "      <td>0</td>\n",
       "      <td>0</td>\n",
       "      <td>NaN</td>\n",
       "      <td>0.0</td>\n",
       "      <td>48.822522</td>\n",
       "      <td>2.455956</td>\n",
       "    </tr>\n",
       "    <tr>\n",
       "      <th>200136</th>\n",
       "      <td>2024745</td>\n",
       "      <td>Arbre</td>\n",
       "      <td>Jardin</td>\n",
       "      <td>BOIS DE VINCENNES</td>\n",
       "      <td>NaN</td>\n",
       "      <td>NaN</td>\n",
       "      <td>ARBORETUM DE L ECOLE DU BREUIL - ROUTE DE LA F...</td>\n",
       "      <td>720170155</td>\n",
       "      <td>Raisinier</td>\n",
       "      <td>Hovenia</td>\n",
       "      <td>dulcis</td>\n",
       "      <td>NaN</td>\n",
       "      <td>0</td>\n",
       "      <td>0</td>\n",
       "      <td>NaN</td>\n",
       "      <td>0.0</td>\n",
       "      <td>48.820445</td>\n",
       "      <td>2.454856</td>\n",
       "    </tr>\n",
       "  </tbody>\n",
       "</table>\n",
       "<p>200137 rows × 18 columns</p>\n",
       "</div>"
      ],
      "text/plain": [
       "             id type_emplacement domanialite     arrondissement  \\\n",
       "0         99874            Arbre      Jardin     PARIS 7E ARRDT   \n",
       "1         99875            Arbre      Jardin     PARIS 7E ARRDT   \n",
       "2         99876            Arbre      Jardin     PARIS 7E ARRDT   \n",
       "3         99877            Arbre      Jardin     PARIS 7E ARRDT   \n",
       "4         99878            Arbre      Jardin    PARIS 17E ARRDT   \n",
       "...         ...              ...         ...                ...   \n",
       "200132  2024741            Arbre      Jardin  BOIS DE VINCENNES   \n",
       "200133  2024742            Arbre      Jardin  BOIS DE VINCENNES   \n",
       "200134  2024743            Arbre      Jardin  BOIS DE VINCENNES   \n",
       "200135  2024744            Arbre      Jardin  BOIS DE VINCENNES   \n",
       "200136  2024745            Arbre      Jardin  BOIS DE VINCENNES   \n",
       "\n",
       "       complement_addresse  numero  \\\n",
       "0                      NaN     NaN   \n",
       "1                      NaN     NaN   \n",
       "2                      NaN     NaN   \n",
       "3                      NaN     NaN   \n",
       "4                      NaN     NaN   \n",
       "...                    ...     ...   \n",
       "200132                 NaN     NaN   \n",
       "200133                 NaN     NaN   \n",
       "200134                 NaN     NaN   \n",
       "200135                 NaN     NaN   \n",
       "200136                 NaN     NaN   \n",
       "\n",
       "                                                     lieu id_emplacement  \\\n",
       "0               MAIRIE DU 7E 116 RUE DE GRENELLE PARIS 7E             19   \n",
       "1               MAIRIE DU 7E 116 RUE DE GRENELLE PARIS 7E             20   \n",
       "2               MAIRIE DU 7E 116 RUE DE GRENELLE PARIS 7E             21   \n",
       "3               MAIRIE DU 7E 116 RUE DE GRENELLE PARIS 7E             22   \n",
       "4              PARC CLICHY-BATIGNOLLES-MARTIN LUTHER KING       000G0037   \n",
       "...                                                   ...            ...   \n",
       "200132  ARBORETUM DE L ECOLE DU BREUIL - ROUTE DE LA F...      720170151   \n",
       "200133  ARBORETUM DE L ECOLE DU BREUIL - ROUTE DE LA F...      720170152   \n",
       "200134  ARBORETUM DE L ECOLE DU BREUIL - ROUTE DE LA F...      720170153   \n",
       "200135  ARBORETUM DE L ECOLE DU BREUIL - ROUTE DE LA F...      720170154   \n",
       "200136  ARBORETUM DE L ECOLE DU BREUIL - ROUTE DE LA F...      720170155   \n",
       "\n",
       "           libelle_francais      genre         espece variete  \\\n",
       "0                Marronnier   Aesculus  hippocastanum     NaN   \n",
       "1                        If      Taxus        baccata     NaN   \n",
       "2                        If      Taxus        baccata     NaN   \n",
       "3                    Erable       Acer        negundo     NaN   \n",
       "4              Arbre à miel  Tetradium      daniellii     NaN   \n",
       "...                     ...        ...            ...     ...   \n",
       "200132                  NaN   Castanea       fargesii     NaN   \n",
       "200133  Arbre aux mouchoirs    Davidia    involucrata     NaN   \n",
       "200134             Peuplier    Populus        simonii     NaN   \n",
       "200135                Chêne    Quercus         n. sp.     NaN   \n",
       "200136            Raisinier    Hovenia         dulcis     NaN   \n",
       "\n",
       "        circonference_cm  hauteur_m stade_developpement  remarquable  \\\n",
       "0                     20          5                 NaN          0.0   \n",
       "1                     65          8                   A          NaN   \n",
       "2                     90         10                   A          NaN   \n",
       "3                     60          8                   A          NaN   \n",
       "4                     38          0                 NaN          NaN   \n",
       "...                  ...        ...                 ...          ...   \n",
       "200132                 0          0                 NaN          0.0   \n",
       "200133                 0          0                 NaN          0.0   \n",
       "200134                 0          0                 NaN          0.0   \n",
       "200135                 0          0                 NaN          0.0   \n",
       "200136                 0          0                 NaN          0.0   \n",
       "\n",
       "        geo_point_2d_a  geo_point_2d_b  \n",
       "0            48.857620        2.320962  \n",
       "1            48.857656        2.321031  \n",
       "2            48.857705        2.321061  \n",
       "3            48.857722        2.321006  \n",
       "4            48.890435        2.315289  \n",
       "...                ...             ...  \n",
       "200132       48.821957        2.456264  \n",
       "200133       48.823254        2.457935  \n",
       "200134       48.822907        2.457970  \n",
       "200135       48.822522        2.455956  \n",
       "200136       48.820445        2.454856  \n",
       "\n",
       "[200137 rows x 18 columns]"
      ]
     },
     "execution_count": 3,
     "metadata": {},
     "output_type": "execute_result"
    }
   ],
   "source": [
    "arbres = pd.read_csv('p2-arbres-fr.csv', sep=\";\")\n",
    "shape = arbres.shape\n",
    "print(f'\\nDataframe contains {arbres.shape[0]} rows and {shape[1]} columns.\\n\\n')\n",
    "arbres"
   ]
  },
  {
   "cell_type": "markdown",
   "metadata": {},
   "source": [
    "Checking the data type:"
   ]
  },
  {
   "cell_type": "code",
   "execution_count": 4,
   "metadata": {},
   "outputs": [
    {
     "name": "stdout",
     "output_type": "stream",
     "text": [
      "<class 'pandas.core.frame.DataFrame'>\n",
      "RangeIndex: 200137 entries, 0 to 200136\n",
      "Data columns (total 18 columns):\n",
      " #   Column               Non-Null Count   Dtype  \n",
      "---  ------               --------------   -----  \n",
      " 0   id                   200137 non-null  int64  \n",
      " 1   type_emplacement     200137 non-null  object \n",
      " 2   domanialite          200136 non-null  object \n",
      " 3   arrondissement       200137 non-null  object \n",
      " 4   complement_addresse  30902 non-null   object \n",
      " 5   numero               0 non-null       float64\n",
      " 6   lieu                 200137 non-null  object \n",
      " 7   id_emplacement       200137 non-null  object \n",
      " 8   libelle_francais     198640 non-null  object \n",
      " 9   genre                200121 non-null  object \n",
      " 10  espece               198385 non-null  object \n",
      " 11  variete              36777 non-null   object \n",
      " 12  circonference_cm     200137 non-null  int64  \n",
      " 13  hauteur_m            200137 non-null  int64  \n",
      " 14  stade_developpement  132932 non-null  object \n",
      " 15  remarquable          137039 non-null  float64\n",
      " 16  geo_point_2d_a       200137 non-null  float64\n",
      " 17  geo_point_2d_b       200137 non-null  float64\n",
      "dtypes: float64(4), int64(3), object(11)\n",
      "memory usage: 19.1+ MB\n"
     ]
    }
   ],
   "source": [
    "arbres.info()"
   ]
  },
  {
   "cell_type": "markdown",
   "metadata": {},
   "source": [
    "The data already has an index column, so we can use it as the Dataframe index.  \n",
    "We can also get rid of the \"numero\" column that is empty (0 non-null value)."
   ]
  },
  {
   "cell_type": "code",
   "execution_count": 5,
   "metadata": {},
   "outputs": [],
   "source": [
    "# Resetting index\n",
    "arbres.set_index('id', inplace=True)\n",
    "\n",
    "# Deleting 'numero' column\n",
    "arbres.drop(labels='numero', axis=1, inplace=True)"
   ]
  },
  {
   "cell_type": "markdown",
   "metadata": {},
   "source": [
    "What is the proportion of missing values ?"
   ]
  },
  {
   "cell_type": "code",
   "execution_count": 6,
   "metadata": {},
   "outputs": [
    {
     "data": {
      "text/html": [
       "<style  type=\"text/css\" >\n",
       "</style><table id=\"T_c78f0464_881e_11eb_9d64_e470b8629c2d\" ><thead>    <tr>        <th class=\"blank level0\" ></th>        <th class=\"col_heading level0 col0\" >Missing values</th>    </tr></thead><tbody>\n",
       "                <tr>\n",
       "                        <th id=\"T_c78f0464_881e_11eb_9d64_e470b8629c2dlevel0_row0\" class=\"row_heading level0 row0\" >type_emplacement</th>\n",
       "                        <td id=\"T_c78f0464_881e_11eb_9d64_e470b8629c2drow0_col0\" class=\"data row0 col0\" >0.00%</td>\n",
       "            </tr>\n",
       "            <tr>\n",
       "                        <th id=\"T_c78f0464_881e_11eb_9d64_e470b8629c2dlevel0_row1\" class=\"row_heading level0 row1\" >domanialite</th>\n",
       "                        <td id=\"T_c78f0464_881e_11eb_9d64_e470b8629c2drow1_col0\" class=\"data row1 col0\" >0.00%</td>\n",
       "            </tr>\n",
       "            <tr>\n",
       "                        <th id=\"T_c78f0464_881e_11eb_9d64_e470b8629c2dlevel0_row2\" class=\"row_heading level0 row2\" >arrondissement</th>\n",
       "                        <td id=\"T_c78f0464_881e_11eb_9d64_e470b8629c2drow2_col0\" class=\"data row2 col0\" >0.00%</td>\n",
       "            </tr>\n",
       "            <tr>\n",
       "                        <th id=\"T_c78f0464_881e_11eb_9d64_e470b8629c2dlevel0_row3\" class=\"row_heading level0 row3\" >complement_addresse</th>\n",
       "                        <td id=\"T_c78f0464_881e_11eb_9d64_e470b8629c2drow3_col0\" class=\"data row3 col0\" >84.56%</td>\n",
       "            </tr>\n",
       "            <tr>\n",
       "                        <th id=\"T_c78f0464_881e_11eb_9d64_e470b8629c2dlevel0_row4\" class=\"row_heading level0 row4\" >lieu</th>\n",
       "                        <td id=\"T_c78f0464_881e_11eb_9d64_e470b8629c2drow4_col0\" class=\"data row4 col0\" >0.00%</td>\n",
       "            </tr>\n",
       "            <tr>\n",
       "                        <th id=\"T_c78f0464_881e_11eb_9d64_e470b8629c2dlevel0_row5\" class=\"row_heading level0 row5\" >id_emplacement</th>\n",
       "                        <td id=\"T_c78f0464_881e_11eb_9d64_e470b8629c2drow5_col0\" class=\"data row5 col0\" >0.00%</td>\n",
       "            </tr>\n",
       "            <tr>\n",
       "                        <th id=\"T_c78f0464_881e_11eb_9d64_e470b8629c2dlevel0_row6\" class=\"row_heading level0 row6\" >libelle_francais</th>\n",
       "                        <td id=\"T_c78f0464_881e_11eb_9d64_e470b8629c2drow6_col0\" class=\"data row6 col0\" >0.75%</td>\n",
       "            </tr>\n",
       "            <tr>\n",
       "                        <th id=\"T_c78f0464_881e_11eb_9d64_e470b8629c2dlevel0_row7\" class=\"row_heading level0 row7\" >genre</th>\n",
       "                        <td id=\"T_c78f0464_881e_11eb_9d64_e470b8629c2drow7_col0\" class=\"data row7 col0\" >0.01%</td>\n",
       "            </tr>\n",
       "            <tr>\n",
       "                        <th id=\"T_c78f0464_881e_11eb_9d64_e470b8629c2dlevel0_row8\" class=\"row_heading level0 row8\" >espece</th>\n",
       "                        <td id=\"T_c78f0464_881e_11eb_9d64_e470b8629c2drow8_col0\" class=\"data row8 col0\" >0.88%</td>\n",
       "            </tr>\n",
       "            <tr>\n",
       "                        <th id=\"T_c78f0464_881e_11eb_9d64_e470b8629c2dlevel0_row9\" class=\"row_heading level0 row9\" >variete</th>\n",
       "                        <td id=\"T_c78f0464_881e_11eb_9d64_e470b8629c2drow9_col0\" class=\"data row9 col0\" >81.62%</td>\n",
       "            </tr>\n",
       "            <tr>\n",
       "                        <th id=\"T_c78f0464_881e_11eb_9d64_e470b8629c2dlevel0_row10\" class=\"row_heading level0 row10\" >circonference_cm</th>\n",
       "                        <td id=\"T_c78f0464_881e_11eb_9d64_e470b8629c2drow10_col0\" class=\"data row10 col0\" >0.00%</td>\n",
       "            </tr>\n",
       "            <tr>\n",
       "                        <th id=\"T_c78f0464_881e_11eb_9d64_e470b8629c2dlevel0_row11\" class=\"row_heading level0 row11\" >hauteur_m</th>\n",
       "                        <td id=\"T_c78f0464_881e_11eb_9d64_e470b8629c2drow11_col0\" class=\"data row11 col0\" >0.00%</td>\n",
       "            </tr>\n",
       "            <tr>\n",
       "                        <th id=\"T_c78f0464_881e_11eb_9d64_e470b8629c2dlevel0_row12\" class=\"row_heading level0 row12\" >stade_developpement</th>\n",
       "                        <td id=\"T_c78f0464_881e_11eb_9d64_e470b8629c2drow12_col0\" class=\"data row12 col0\" >33.58%</td>\n",
       "            </tr>\n",
       "            <tr>\n",
       "                        <th id=\"T_c78f0464_881e_11eb_9d64_e470b8629c2dlevel0_row13\" class=\"row_heading level0 row13\" >remarquable</th>\n",
       "                        <td id=\"T_c78f0464_881e_11eb_9d64_e470b8629c2drow13_col0\" class=\"data row13 col0\" >31.53%</td>\n",
       "            </tr>\n",
       "            <tr>\n",
       "                        <th id=\"T_c78f0464_881e_11eb_9d64_e470b8629c2dlevel0_row14\" class=\"row_heading level0 row14\" >geo_point_2d_a</th>\n",
       "                        <td id=\"T_c78f0464_881e_11eb_9d64_e470b8629c2drow14_col0\" class=\"data row14 col0\" >0.00%</td>\n",
       "            </tr>\n",
       "            <tr>\n",
       "                        <th id=\"T_c78f0464_881e_11eb_9d64_e470b8629c2dlevel0_row15\" class=\"row_heading level0 row15\" >geo_point_2d_b</th>\n",
       "                        <td id=\"T_c78f0464_881e_11eb_9d64_e470b8629c2drow15_col0\" class=\"data row15 col0\" >0.00%</td>\n",
       "            </tr>\n",
       "    </tbody></table>"
      ],
      "text/plain": [
       "<pandas.io.formats.style.Styler at 0x1247c5b0>"
      ]
     },
     "execution_count": 6,
     "metadata": {},
     "output_type": "execute_result"
    }
   ],
   "source": [
    "percentages = pd.DataFrame(arbres.isna().sum(axis=0) / arbres.shape[0], columns = ['Missing values'])\n",
    "percentages_styled = percentages.style.format({'Missing values': '{:.2%}'})\n",
    "percentages_styled"
   ]
  },
  {
   "cell_type": "markdown",
   "metadata": {},
   "source": [
    "Missing values are mainly descriptive ones, while numerical data (circonference_cm, hauteur_m) are complete. So for the moment there is no need to handle missing values."
   ]
  },
  {
   "cell_type": "code",
   "execution_count": 7,
   "metadata": {},
   "outputs": [
    {
     "data": {
      "text/html": [
       "<div>\n",
       "<style scoped>\n",
       "    .dataframe tbody tr th:only-of-type {\n",
       "        vertical-align: middle;\n",
       "    }\n",
       "\n",
       "    .dataframe tbody tr th {\n",
       "        vertical-align: top;\n",
       "    }\n",
       "\n",
       "    .dataframe thead th {\n",
       "        text-align: right;\n",
       "    }\n",
       "</style>\n",
       "<table border=\"1\" class=\"dataframe\">\n",
       "  <thead>\n",
       "    <tr style=\"text-align: right;\">\n",
       "      <th></th>\n",
       "      <th>type_emplacement</th>\n",
       "      <th>domanialite</th>\n",
       "      <th>arrondissement</th>\n",
       "      <th>complement_addresse</th>\n",
       "      <th>lieu</th>\n",
       "      <th>id_emplacement</th>\n",
       "      <th>libelle_francais</th>\n",
       "      <th>genre</th>\n",
       "      <th>espece</th>\n",
       "      <th>variete</th>\n",
       "      <th>circonference_cm</th>\n",
       "      <th>hauteur_m</th>\n",
       "      <th>stade_developpement</th>\n",
       "      <th>remarquable</th>\n",
       "      <th>geo_point_2d_a</th>\n",
       "      <th>geo_point_2d_b</th>\n",
       "    </tr>\n",
       "  </thead>\n",
       "  <tbody>\n",
       "    <tr>\n",
       "      <th>count</th>\n",
       "      <td>200137</td>\n",
       "      <td>200136</td>\n",
       "      <td>200137</td>\n",
       "      <td>30902</td>\n",
       "      <td>200137</td>\n",
       "      <td>200137</td>\n",
       "      <td>198640</td>\n",
       "      <td>200121</td>\n",
       "      <td>198385</td>\n",
       "      <td>36777</td>\n",
       "      <td>200137.000000</td>\n",
       "      <td>200137.000000</td>\n",
       "      <td>132932</td>\n",
       "      <td>137039.000000</td>\n",
       "      <td>200137.000000</td>\n",
       "      <td>200137.000000</td>\n",
       "    </tr>\n",
       "    <tr>\n",
       "      <th>unique</th>\n",
       "      <td>1</td>\n",
       "      <td>9</td>\n",
       "      <td>25</td>\n",
       "      <td>3795</td>\n",
       "      <td>6921</td>\n",
       "      <td>69040</td>\n",
       "      <td>192</td>\n",
       "      <td>175</td>\n",
       "      <td>539</td>\n",
       "      <td>436</td>\n",
       "      <td>NaN</td>\n",
       "      <td>NaN</td>\n",
       "      <td>4</td>\n",
       "      <td>NaN</td>\n",
       "      <td>NaN</td>\n",
       "      <td>NaN</td>\n",
       "    </tr>\n",
       "    <tr>\n",
       "      <th>top</th>\n",
       "      <td>Arbre</td>\n",
       "      <td>Alignement</td>\n",
       "      <td>PARIS 15E ARRDT</td>\n",
       "      <td>SN°</td>\n",
       "      <td>PARC FLORAL DE PARIS / ROUTE DE LA PYRAMIDE</td>\n",
       "      <td>101001</td>\n",
       "      <td>Platane</td>\n",
       "      <td>Platanus</td>\n",
       "      <td>x hispanica</td>\n",
       "      <td>Baumannii'</td>\n",
       "      <td>NaN</td>\n",
       "      <td>NaN</td>\n",
       "      <td>A</td>\n",
       "      <td>NaN</td>\n",
       "      <td>NaN</td>\n",
       "      <td>NaN</td>\n",
       "    </tr>\n",
       "    <tr>\n",
       "      <th>freq</th>\n",
       "      <td>200137</td>\n",
       "      <td>104949</td>\n",
       "      <td>17151</td>\n",
       "      <td>557</td>\n",
       "      <td>2995</td>\n",
       "      <td>1324</td>\n",
       "      <td>42508</td>\n",
       "      <td>42591</td>\n",
       "      <td>36409</td>\n",
       "      <td>4538</td>\n",
       "      <td>NaN</td>\n",
       "      <td>NaN</td>\n",
       "      <td>64438</td>\n",
       "      <td>NaN</td>\n",
       "      <td>NaN</td>\n",
       "      <td>NaN</td>\n",
       "    </tr>\n",
       "    <tr>\n",
       "      <th>mean</th>\n",
       "      <td>NaN</td>\n",
       "      <td>NaN</td>\n",
       "      <td>NaN</td>\n",
       "      <td>NaN</td>\n",
       "      <td>NaN</td>\n",
       "      <td>NaN</td>\n",
       "      <td>NaN</td>\n",
       "      <td>NaN</td>\n",
       "      <td>NaN</td>\n",
       "      <td>NaN</td>\n",
       "      <td>83.380479</td>\n",
       "      <td>13.110509</td>\n",
       "      <td>NaN</td>\n",
       "      <td>0.001343</td>\n",
       "      <td>48.854491</td>\n",
       "      <td>2.348208</td>\n",
       "    </tr>\n",
       "    <tr>\n",
       "      <th>std</th>\n",
       "      <td>NaN</td>\n",
       "      <td>NaN</td>\n",
       "      <td>NaN</td>\n",
       "      <td>NaN</td>\n",
       "      <td>NaN</td>\n",
       "      <td>NaN</td>\n",
       "      <td>NaN</td>\n",
       "      <td>NaN</td>\n",
       "      <td>NaN</td>\n",
       "      <td>NaN</td>\n",
       "      <td>673.190213</td>\n",
       "      <td>1971.217387</td>\n",
       "      <td>NaN</td>\n",
       "      <td>0.036618</td>\n",
       "      <td>0.030234</td>\n",
       "      <td>0.051220</td>\n",
       "    </tr>\n",
       "    <tr>\n",
       "      <th>min</th>\n",
       "      <td>NaN</td>\n",
       "      <td>NaN</td>\n",
       "      <td>NaN</td>\n",
       "      <td>NaN</td>\n",
       "      <td>NaN</td>\n",
       "      <td>NaN</td>\n",
       "      <td>NaN</td>\n",
       "      <td>NaN</td>\n",
       "      <td>NaN</td>\n",
       "      <td>NaN</td>\n",
       "      <td>0.000000</td>\n",
       "      <td>0.000000</td>\n",
       "      <td>NaN</td>\n",
       "      <td>0.000000</td>\n",
       "      <td>48.742290</td>\n",
       "      <td>2.210241</td>\n",
       "    </tr>\n",
       "    <tr>\n",
       "      <th>25%</th>\n",
       "      <td>NaN</td>\n",
       "      <td>NaN</td>\n",
       "      <td>NaN</td>\n",
       "      <td>NaN</td>\n",
       "      <td>NaN</td>\n",
       "      <td>NaN</td>\n",
       "      <td>NaN</td>\n",
       "      <td>NaN</td>\n",
       "      <td>NaN</td>\n",
       "      <td>NaN</td>\n",
       "      <td>30.000000</td>\n",
       "      <td>5.000000</td>\n",
       "      <td>NaN</td>\n",
       "      <td>0.000000</td>\n",
       "      <td>48.835021</td>\n",
       "      <td>2.307530</td>\n",
       "    </tr>\n",
       "    <tr>\n",
       "      <th>50%</th>\n",
       "      <td>NaN</td>\n",
       "      <td>NaN</td>\n",
       "      <td>NaN</td>\n",
       "      <td>NaN</td>\n",
       "      <td>NaN</td>\n",
       "      <td>NaN</td>\n",
       "      <td>NaN</td>\n",
       "      <td>NaN</td>\n",
       "      <td>NaN</td>\n",
       "      <td>NaN</td>\n",
       "      <td>70.000000</td>\n",
       "      <td>8.000000</td>\n",
       "      <td>NaN</td>\n",
       "      <td>0.000000</td>\n",
       "      <td>48.854162</td>\n",
       "      <td>2.351095</td>\n",
       "    </tr>\n",
       "    <tr>\n",
       "      <th>75%</th>\n",
       "      <td>NaN</td>\n",
       "      <td>NaN</td>\n",
       "      <td>NaN</td>\n",
       "      <td>NaN</td>\n",
       "      <td>NaN</td>\n",
       "      <td>NaN</td>\n",
       "      <td>NaN</td>\n",
       "      <td>NaN</td>\n",
       "      <td>NaN</td>\n",
       "      <td>NaN</td>\n",
       "      <td>115.000000</td>\n",
       "      <td>12.000000</td>\n",
       "      <td>NaN</td>\n",
       "      <td>0.000000</td>\n",
       "      <td>48.876447</td>\n",
       "      <td>2.386838</td>\n",
       "    </tr>\n",
       "    <tr>\n",
       "      <th>max</th>\n",
       "      <td>NaN</td>\n",
       "      <td>NaN</td>\n",
       "      <td>NaN</td>\n",
       "      <td>NaN</td>\n",
       "      <td>NaN</td>\n",
       "      <td>NaN</td>\n",
       "      <td>NaN</td>\n",
       "      <td>NaN</td>\n",
       "      <td>NaN</td>\n",
       "      <td>NaN</td>\n",
       "      <td>250255.000000</td>\n",
       "      <td>881818.000000</td>\n",
       "      <td>NaN</td>\n",
       "      <td>1.000000</td>\n",
       "      <td>48.911485</td>\n",
       "      <td>2.469759</td>\n",
       "    </tr>\n",
       "  </tbody>\n",
       "</table>\n",
       "</div>"
      ],
      "text/plain": [
       "       type_emplacement domanialite   arrondissement complement_addresse  \\\n",
       "count            200137      200136           200137               30902   \n",
       "unique                1           9               25                3795   \n",
       "top               Arbre  Alignement  PARIS 15E ARRDT                 SN°   \n",
       "freq             200137      104949            17151                 557   \n",
       "mean                NaN         NaN              NaN                 NaN   \n",
       "std                 NaN         NaN              NaN                 NaN   \n",
       "min                 NaN         NaN              NaN                 NaN   \n",
       "25%                 NaN         NaN              NaN                 NaN   \n",
       "50%                 NaN         NaN              NaN                 NaN   \n",
       "75%                 NaN         NaN              NaN                 NaN   \n",
       "max                 NaN         NaN              NaN                 NaN   \n",
       "\n",
       "                                               lieu id_emplacement  \\\n",
       "count                                        200137         200137   \n",
       "unique                                         6921          69040   \n",
       "top     PARC FLORAL DE PARIS / ROUTE DE LA PYRAMIDE         101001   \n",
       "freq                                           2995           1324   \n",
       "mean                                            NaN            NaN   \n",
       "std                                             NaN            NaN   \n",
       "min                                             NaN            NaN   \n",
       "25%                                             NaN            NaN   \n",
       "50%                                             NaN            NaN   \n",
       "75%                                             NaN            NaN   \n",
       "max                                             NaN            NaN   \n",
       "\n",
       "       libelle_francais     genre       espece     variete  circonference_cm  \\\n",
       "count            198640    200121       198385       36777     200137.000000   \n",
       "unique              192       175          539         436               NaN   \n",
       "top             Platane  Platanus  x hispanica  Baumannii'               NaN   \n",
       "freq              42508     42591        36409        4538               NaN   \n",
       "mean                NaN       NaN          NaN         NaN         83.380479   \n",
       "std                 NaN       NaN          NaN         NaN        673.190213   \n",
       "min                 NaN       NaN          NaN         NaN          0.000000   \n",
       "25%                 NaN       NaN          NaN         NaN         30.000000   \n",
       "50%                 NaN       NaN          NaN         NaN         70.000000   \n",
       "75%                 NaN       NaN          NaN         NaN        115.000000   \n",
       "max                 NaN       NaN          NaN         NaN     250255.000000   \n",
       "\n",
       "            hauteur_m stade_developpement    remarquable  geo_point_2d_a  \\\n",
       "count   200137.000000              132932  137039.000000   200137.000000   \n",
       "unique            NaN                   4            NaN             NaN   \n",
       "top               NaN                   A            NaN             NaN   \n",
       "freq              NaN               64438            NaN             NaN   \n",
       "mean        13.110509                 NaN       0.001343       48.854491   \n",
       "std       1971.217387                 NaN       0.036618        0.030234   \n",
       "min          0.000000                 NaN       0.000000       48.742290   \n",
       "25%          5.000000                 NaN       0.000000       48.835021   \n",
       "50%          8.000000                 NaN       0.000000       48.854162   \n",
       "75%         12.000000                 NaN       0.000000       48.876447   \n",
       "max     881818.000000                 NaN       1.000000       48.911485   \n",
       "\n",
       "        geo_point_2d_b  \n",
       "count    200137.000000  \n",
       "unique             NaN  \n",
       "top                NaN  \n",
       "freq               NaN  \n",
       "mean          2.348208  \n",
       "std           0.051220  \n",
       "min           2.210241  \n",
       "25%           2.307530  \n",
       "50%           2.351095  \n",
       "75%           2.386838  \n",
       "max           2.469759  "
      ]
     },
     "execution_count": 7,
     "metadata": {},
     "output_type": "execute_result"
    }
   ],
   "source": [
    "arbres.describe(include='all')"
   ]
  },
  {
   "cell_type": "markdown",
   "metadata": {},
   "source": []
  },
  {
   "cell_type": "markdown",
   "metadata": {},
   "source": [
    "Many parameters can be studied further, such as the \"libelle français\" distribution. For example we can already notice that the plane tree (platane) is the most common species, which comes as no surprise ! But for now let's focus on numerical data : circonference_cm and hateur_m."
   ]
  },
  {
   "cell_type": "markdown",
   "metadata": {},
   "source": [
    "## 2. Numerical data analysis"
   ]
  },
  {
   "cell_type": "markdown",
   "metadata": {},
   "source": [
    "Standard deviation and max values for columns \"circonference_cm\" and \"hauteur_m\" seem inconsistent, let's draw boxplots to dive further and find outliers."
   ]
  },
  {
   "cell_type": "markdown",
   "metadata": {},
   "source": [
    "### a. Circumference"
   ]
  },
  {
   "cell_type": "markdown",
   "metadata": {},
   "source": [
    "Let's first trace a box plot of the data:"
   ]
  },
  {
   "cell_type": "code",
   "execution_count": 8,
   "metadata": {},
   "outputs": [
    {
     "data": {
      "image/png": "[encoded data removed]",
      "text/plain": [
       "<Figure size 1440x360 with 1 Axes>"
      ]
     },
     "metadata": {
      "needs_background": "light"
     },
     "output_type": "display_data"
    }
   ],
   "source": [
    "plt.figure(figsize=(20,5))\n",
    "circ = sns.boxplot(x=arbres[\"circonference_cm\"])"
   ]
  },
  {
   "cell_type": "markdown",
   "metadata": {},
   "source": [
    "We can notice outlier values that squash the box plot. Let's get rid of them assuming that any value larger than (mean + 2 * std) is out of 95% of the data and then inconsistent."
   ]
  },
  {
   "cell_type": "code",
   "execution_count": 9,
   "metadata": {},
   "outputs": [],
   "source": [
    "# calculate mean\n",
    "circ_mean = arbres['circonference_cm'].mean()\n",
    "\n",
    "# calculate standard deviation\n",
    "circ_std = arbres['circonference_cm'].std()\n",
    "\n",
    "# calculate limit\n",
    "max_circ = circ_mean + (2*circ_std)\n",
    "\n",
    "# keeping only values under \n",
    "arbres = arbres[arbres['circonference_cm']<=max_circ]"
   ]
  },
  {
   "cell_type": "code",
   "execution_count": 10,
   "metadata": {},
   "outputs": [
    {
     "data": {
      "image/png": "[encoded data removed]",
      "text/plain": [
       "<Figure size 1440x360 with 1 Axes>"
      ]
     },
     "metadata": {
      "needs_background": "light"
     },
     "output_type": "display_data"
    }
   ],
   "source": [
    "plt.figure(figsize=(20,5))\n",
    "circ = sns.boxplot(x=arbres[\"circonference_cm\"])"
   ]
  },
  {
   "cell_type": "code",
   "execution_count": 11,
   "metadata": {},
   "outputs": [
    {
     "data": {
      "text/plain": [
       "<AxesSubplot:xlabel='circonference_cm', ylabel='Count'>"
      ]
     },
     "execution_count": 11,
     "metadata": {},
     "output_type": "execute_result"
    },
    {
     "data": {
      "image/png": "[encoded data removed]",
      "text/plain": [
       "<Figure size 1440x360 with 1 Axes>"
      ]
     },
     "metadata": {
      "needs_background": "light"
     },
     "output_type": "display_data"
    }
   ],
   "source": [
    "plt.figure(figsize=(20,5))\n",
    "sns.histplot(arbres[\"circonference_cm\"])"
   ]
  },
  {
   "cell_type": "markdown",
   "metadata": {},
   "source": [
    "The 0 values can be replaced by NaN to avoid squashing on dimension y:"
   ]
  },
  {
   "cell_type": "code",
   "execution_count": 12,
   "metadata": {},
   "outputs": [],
   "source": [
    "arbres['circonference_cm'].replace(0, np.nan, inplace=True)"
   ]
  },
  {
   "cell_type": "code",
   "execution_count": 13,
   "metadata": {},
   "outputs": [
    {
     "data": {
      "text/plain": [
       "<AxesSubplot:xlabel='circonference_cm', ylabel='Count'>"
      ]
     },
     "execution_count": 13,
     "metadata": {},
     "output_type": "execute_result"
    },
    {
     "data": {
      "image/png": "[encoded data removed]",
      "text/plain": [
       "<Figure size 1440x360 with 1 Axes>"
      ]
     },
     "metadata": {
      "needs_background": "light"
     },
     "output_type": "display_data"
    }
   ],
   "source": [
    "plt.figure(figsize=(20,5))\n",
    "sns.histplot(arbres[\"circonference_cm\"])"
   ]
  },
  {
   "cell_type": "markdown",
   "metadata": {},
   "source": [
    "The intermediary values mays come from different measurement conventions (precision 5 or 10 cm for instance). Without modifying the data, we can draw a plot with bigger bins to have a more general insight."
   ]
  },
  {
   "cell_type": "code",
   "execution_count": 14,
   "metadata": {},
   "outputs": [
    {
     "data": {
      "text/plain": [
       "<AxesSubplot:xlabel='circonference_cm', ylabel='Count'>"
      ]
     },
     "execution_count": 14,
     "metadata": {},
     "output_type": "execute_result"
    },
    {
     "data": {
      "image/png": "[encoded data removed]",
      "text/plain": [
       "<Figure size 1440x360 with 1 Axes>"
      ]
     },
     "metadata": {
      "needs_background": "light"
     },
     "output_type": "display_data"
    }
   ],
   "source": [
    "plt.figure(figsize=(20,5))\n",
    "sns.histplot(arbres[\"circonference_cm\"], bins=40)"
   ]
  },
  {
   "cell_type": "markdown",
   "metadata": {},
   "source": [
    "### b. Height"
   ]
  },
  {
   "cell_type": "code",
   "execution_count": 15,
   "metadata": {},
   "outputs": [
    {
     "data": {
      "image/png": "[encoded data removed]",
      "text/plain": [
       "<Figure size 432x288 with 1 Axes>"
      ]
     },
     "metadata": {
      "needs_background": "light"
     },
     "output_type": "display_data"
    }
   ],
   "source": [
    "haut = sns.boxplot(x=arbres[\"hauteur_m\"])"
   ]
  },
  {
   "cell_type": "markdown",
   "metadata": {},
   "source": [
    "The value above 800,000 is of course inconsistent and squashes the other ones on the graph, so we can drop the row. I choose to drop the entire row instead of just dropping the wrong height, since all other datas have values, and that the dataset is big."
   ]
  },
  {
   "cell_type": "code",
   "execution_count": 16,
   "metadata": {},
   "outputs": [],
   "source": [
    "highest = arbres['hauteur_m'].idxmax()\n",
    "arbres.loc[highest]\n",
    "arbres.drop([highest], inplace=True)"
   ]
  },
  {
   "cell_type": "markdown",
   "metadata": {},
   "source": [
    "Let's plot \"hauteur_m\" again:"
   ]
  },
  {
   "cell_type": "code",
   "execution_count": 17,
   "metadata": {},
   "outputs": [
    {
     "data": {
      "image/png": "[encoded data removed]",
      "text/plain": [
       "<Figure size 1440x360 with 1 Axes>"
      ]
     },
     "metadata": {
      "needs_background": "light"
     },
     "output_type": "display_data"
    }
   ],
   "source": [
    "plt.figure(figsize=(20,5))\n",
    "haut = sns.boxplot(x=arbres[\"hauteur_m\"])"
   ]
  },
  {
   "cell_type": "markdown",
   "metadata": {},
   "source": [
    "Data are still squashed. It is likely that some values were wrongly input in centimeters instead of meters. But not all of them probably since the data is supposed to be in meters.  \n",
    "\n",
    "The highest tree in Paris is 30m high [(source)](https://agriculture.gouv.fr/le-plus-grand-arbre-de-paris-veille-sur-le-78-rue-de-varenne), let's use this value as the limit. If a value is bigger than 30, then it is necessarily in centimeters. \n",
    "\n",
    "So, all and only trees heights lower than 30 should be multiplied by 100 to make sense and become centimeters, and the column must be renamed \"hauteur_cm\". Furthermore, any value bigger than 3000 can be safely dropped as inconsistent."
   ]
  },
  {
   "cell_type": "code",
   "execution_count": 18,
   "metadata": {},
   "outputs": [
    {
     "data": {
      "text/html": [
       "<div>\n",
       "<style scoped>\n",
       "    .dataframe tbody tr th:only-of-type {\n",
       "        vertical-align: middle;\n",
       "    }\n",
       "\n",
       "    .dataframe tbody tr th {\n",
       "        vertical-align: top;\n",
       "    }\n",
       "\n",
       "    .dataframe thead th {\n",
       "        text-align: right;\n",
       "    }\n",
       "</style>\n",
       "<table border=\"1\" class=\"dataframe\">\n",
       "  <thead>\n",
       "    <tr style=\"text-align: right;\">\n",
       "      <th></th>\n",
       "      <th>circonference_cm</th>\n",
       "      <th>hauteur_cm</th>\n",
       "      <th>remarquable</th>\n",
       "      <th>geo_point_2d_a</th>\n",
       "      <th>geo_point_2d_b</th>\n",
       "    </tr>\n",
       "  </thead>\n",
       "  <tbody>\n",
       "    <tr>\n",
       "      <th>count</th>\n",
       "      <td>561.000000</td>\n",
       "      <td>569.000000</td>\n",
       "      <td>533.000000</td>\n",
       "      <td>569.000000</td>\n",
       "      <td>569.000000</td>\n",
       "    </tr>\n",
       "    <tr>\n",
       "      <th>mean</th>\n",
       "      <td>81.588235</td>\n",
       "      <td>135.065026</td>\n",
       "      <td>0.020638</td>\n",
       "      <td>48.840701</td>\n",
       "      <td>2.347969</td>\n",
       "    </tr>\n",
       "    <tr>\n",
       "      <th>std</th>\n",
       "      <td>115.417270</td>\n",
       "      <td>266.959242</td>\n",
       "      <td>0.142302</td>\n",
       "      <td>0.026505</td>\n",
       "      <td>0.038873</td>\n",
       "    </tr>\n",
       "    <tr>\n",
       "      <th>min</th>\n",
       "      <td>2.000000</td>\n",
       "      <td>31.000000</td>\n",
       "      <td>0.000000</td>\n",
       "      <td>48.809593</td>\n",
       "      <td>2.241448</td>\n",
       "    </tr>\n",
       "    <tr>\n",
       "      <th>25%</th>\n",
       "      <td>10.000000</td>\n",
       "      <td>55.000000</td>\n",
       "      <td>0.000000</td>\n",
       "      <td>48.816880</td>\n",
       "      <td>2.336542</td>\n",
       "    </tr>\n",
       "    <tr>\n",
       "      <th>50%</th>\n",
       "      <td>35.000000</td>\n",
       "      <td>78.000000</td>\n",
       "      <td>0.000000</td>\n",
       "      <td>48.834825</td>\n",
       "      <td>2.346788</td>\n",
       "    </tr>\n",
       "    <tr>\n",
       "      <th>75%</th>\n",
       "      <td>105.000000</td>\n",
       "      <td>100.000000</td>\n",
       "      <td>0.000000</td>\n",
       "      <td>48.857480</td>\n",
       "      <td>2.365400</td>\n",
       "    </tr>\n",
       "    <tr>\n",
       "      <th>max</th>\n",
       "      <td>784.000000</td>\n",
       "      <td>2525.000000</td>\n",
       "      <td>1.000000</td>\n",
       "      <td>48.908945</td>\n",
       "      <td>2.461321</td>\n",
       "    </tr>\n",
       "  </tbody>\n",
       "</table>\n",
       "</div>"
      ],
      "text/plain": [
       "       circonference_cm   hauteur_cm  remarquable  geo_point_2d_a  \\\n",
       "count        561.000000   569.000000   533.000000      569.000000   \n",
       "mean          81.588235   135.065026     0.020638       48.840701   \n",
       "std          115.417270   266.959242     0.142302        0.026505   \n",
       "min            2.000000    31.000000     0.000000       48.809593   \n",
       "25%           10.000000    55.000000     0.000000       48.816880   \n",
       "50%           35.000000    78.000000     0.000000       48.834825   \n",
       "75%          105.000000   100.000000     0.000000       48.857480   \n",
       "max          784.000000  2525.000000     1.000000       48.908945   \n",
       "\n",
       "       geo_point_2d_b  \n",
       "count      569.000000  \n",
       "mean         2.347969  \n",
       "std          0.038873  \n",
       "min          2.241448  \n",
       "25%          2.336542  \n",
       "50%          2.346788  \n",
       "75%          2.365400  \n",
       "max          2.461321  "
      ]
     },
     "execution_count": 18,
     "metadata": {},
     "output_type": "execute_result"
    }
   ],
   "source": [
    "# Extract trees under 30 and turning them into cm:\n",
    "max_30 = arbres[arbres['hauteur_m']<=30]\n",
    "max_30.loc[:,'hauteur_m'] *= 100\n",
    "\n",
    "# Delete rows for trees under 30 in dataest (they will be replaced by\n",
    "# the cm values)\n",
    "arbres.drop(arbres[arbres.loc[:,'hauteur_m']<=30].index, inplace=True)\n",
    "\n",
    "# concatenating max_30 and arbres\n",
    "arbres.append(max_30)\n",
    "\n",
    "#dropping values bigger than 3000\n",
    "arbres.drop(arbres[arbres['hauteur_m']>3000].index, inplace=True)\n",
    "\n",
    "#renaming column \"hauteur_m\" as \"hauteur_cm\"\n",
    "arbres.rename(columns={\"hauteur_m\": \"hauteur_cm\"}, inplace=True)\n",
    "\n",
    "arbres.describe()"
   ]
  },
  {
   "cell_type": "code",
   "execution_count": 19,
   "metadata": {},
   "outputs": [
    {
     "data": {
      "image/png": "[encoded data removed]",
      "text/plain": [
       "<Figure size 1440x360 with 1 Axes>"
      ]
     },
     "metadata": {
      "needs_background": "light"
     },
     "output_type": "display_data"
    }
   ],
   "source": [
    "# plotting with edited data\n",
    "plt.figure(figsize=(20,5))\n",
    "haut = sns.boxplot(x=arbres[\"hauteur_cm\"])"
   ]
  },
  {
   "cell_type": "markdown",
   "metadata": {},
   "source": [
    "We can use the limit of mean + (2 * std) here as well to have a better insight of values out of outliers:"
   ]
  },
  {
   "cell_type": "code",
   "execution_count": 20,
   "metadata": {},
   "outputs": [],
   "source": [
    "mean = arbres['hauteur_cm'].mean()\n",
    "std = arbres['hauteur_cm'].std()\n",
    "arbres = arbres[arbres['hauteur_cm'] < (mean + 2*std)]"
   ]
  },
  {
   "cell_type": "code",
   "execution_count": 23,
   "metadata": {},
   "outputs": [
    {
     "data": {
      "text/plain": [
       "<AxesSubplot:xlabel='hauteur_cm'>"
      ]
     },
     "execution_count": 23,
     "metadata": {},
     "output_type": "execute_result"
    },
    {
     "data": {
      "image/png": "[encoded data removed]",
      "text/plain": [
       "<Figure size 1440x360 with 1 Axes>"
      ]
     },
     "metadata": {
      "needs_background": "light"
     },
     "output_type": "display_data"
    }
   ],
   "source": [
    "plt.figure(figsize=(20,5))\n",
    "sns.boxplot(arbres[\"hauteur_cm\"])"
   ]
  },
  {
   "cell_type": "code",
   "execution_count": 21,
   "metadata": {},
   "outputs": [
    {
     "data": {
      "text/plain": [
       "<AxesSubplot:xlabel='hauteur_cm', ylabel='Count'>"
      ]
     },
     "execution_count": 21,
     "metadata": {},
     "output_type": "execute_result"
    },
    {
     "data": {
      "image/png": "[encoded data removed]",
      "text/plain": [
       "<Figure size 1440x360 with 1 Axes>"
      ]
     },
     "metadata": {
      "needs_background": "light"
     },
     "output_type": "display_data"
    }
   ],
   "source": [
    "plt.figure(figsize=(20,5))\n",
    "sns.histplot(arbres[\"hauteur_cm\"])"
   ]
  },
  {
   "cell_type": "markdown",
   "metadata": {},
   "source": [
    "Now let's link \"hauteur_cm\" and \"circonference_cm\" of each tree:"
   ]
  },
  {
   "cell_type": "code",
   "execution_count": 22,
   "metadata": {},
   "outputs": [
    {
     "data": {
      "text/plain": [
       "<AxesSubplot:xlabel='hauteur_cm', ylabel='circonference_cm'>"
      ]
     },
     "execution_count": 22,
     "metadata": {},
     "output_type": "execute_result"
    },
    {
     "data": {
      "image/png": "[encoded data removed]",
      "text/plain": [
       "<Figure size 1440x360 with 1 Axes>"
      ]
     },
     "metadata": {
      "needs_background": "light"
     },
     "output_type": "display_data"
    }
   ],
   "source": [
    "plt.figure(figsize=(20,5))\n",
    "sns.scatterplot(data=arbres, x='hauteur_cm', y='circonference_cm')"
   ]
  },
  {
   "cell_type": "markdown",
   "metadata": {},
   "source": [
    "The highest values in circonference were not irrelevant *per se*, but when analysed in conjunction with height, many inconsistencies appear. Smaller trees are not likely to have big circumferences.\n",
    "We may assume that, for instance, the measurements were made in millimeters instead of centimeters, in the same way as for heights.  \n",
    "\n",
    "As we have no information on the largest tree in Paris, no threshold can be used to split the data as we did for height. But whatever the reason for this may be, this problem should be addressed, for instance by asking the relevant departement what that limit could be."
   ]
  },
  {
   "cell_type": "markdown",
   "metadata": {},
   "source": [
    "## 3) Conclusion "
   ]
  },
  {
   "cell_type": "markdown",
   "metadata": {},
   "source": [
    "We only have briefly explored numerical data in this dataset, i.e. height and circumference, but we could notice that:\n",
    "- they do not have the same order of magnitude and should be normalised and centered for better joint analysis.\n",
    "- they present irrelevant values, especially when cross-compared, that may come from different ways of measurement.\n",
    "\n",
    "Statistical tools can help to select most relevant values but nothing replaces an exchange with specialists of the subject !"
   ]
  },
  {
   "cell_type": "markdown",
   "metadata": {},
   "source": [
    "In addition, the analysis could have been done, for instance, on species, locations, varieties etc. Especially since the initial aim of the competition is to improve the maintenance rounds. We could for instance have cross-analyzed the species vs the number of times or the season they must be pruined. But this goes beyond the scope of the present projet."
   ]
  },
  {
   "cell_type": "code",
   "execution_count": null,
   "metadata": {},
   "outputs": [],
   "source": []
  }
 ],
 "metadata": {
  "kernelspec": {
   "display_name": "Python 3",
   "language": "python",
   "name": "python3"
  },
  "language_info": {
   "codemirror_mode": {
    "name": "ipython",
    "version": 3
   },
   "file_extension": ".py",
   "mimetype": "text/x-python",
   "name": "python",
   "nbconvert_exporter": "python",
   "pygments_lexer": "ipython3",
   "version": "3.8.5"
  }
 },
 "nbformat": 4,
 "nbformat_minor": 4
}
